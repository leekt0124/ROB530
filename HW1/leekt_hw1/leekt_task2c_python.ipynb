{
  "cells": [
    {
      "cell_type": "markdown",
      "metadata": {
        "id": "iYPFBP6wST4B"
      },
      "source": [
        "# NA 568 Mobile Robotics: Methods & Algorithms Winter 2021 -- Homework 1 -- Preliminaries (Task 2 c in Python)\n",
        "\n",
        "University of Michigan\\\n",
        "January 19, 2021"
      ]
    },
    {
      "cell_type": "markdown",
      "metadata": {
        "id": "xCJqvVjDST4I"
      },
      "source": [
        "# Task 2 C. (10 pts) \n",
        "Consider a robot that resides in a circular world consisting of ten different places that are numbered counterclockwise.  The robot is unable to sense the number of its present place directly. However, places 0, 3, and 6 contain a distinct landmark, whereas all other places do not.  All three of these landmarks look alike.  The likelihood that the robot observes the landmark given it is in one of these places is 0.8.  For all other places, the likelihood of observing the landmark is 0.4.\n",
        "\n",
        "For each place on the circle we wish compute the probability that the robot is in that place given that the following sequence of actions is carried out deterministically and the following sequence of observations is obtained: The robot detects a landmark, moves 3 grid cells counterclockwise and detects a landmark, and then moves 4 grid cells counterclockwise and finally perceives no landmark.\n",
        "\n",
        "Implement the circular world described above using a discrete Bayes filter in Matlab/Python/Julia to numerically arrive at the desired belief and report your result in the PDF."
      ]
    },
    {
      "cell_type": "code",
      "execution_count": 1,
      "metadata": {
        "id": "rMyZd_CxST4J"
      },
      "outputs": [],
      "source": [
        "import numpy as np\n",
        "import matplotlib.pyplot as plt\n",
        "\n",
        "# colors\n",
        "green = np.array([0.2980, 0.6, 0])\n",
        "darkblue = np.array([0, 0.2, 0.4])\n",
        "VermillionRed = np.array([156, 31, 46]) / 255\n",
        "\n",
        "def plot_fuction(prior_belief, prediction, posterior_belief):\n",
        "    \"\"\"\n",
        "    plot prior belief, prediction after action, and posterior belief after measurement\n",
        "    \"\"\"    \n",
        "    fig = plt.figure()\n",
        "    \n",
        "    # plot prior belief\n",
        "    ax1 = plt.subplot(311)\n",
        "    plt.bar(np.arange(0,10), prior_belief.reshape(-1), color=darkblue)\n",
        "    plt.title(r'Prior Belief')\n",
        "    plt.ylim(0, 1)\n",
        "    plt.ylabel(r'$bel(x_{t-1})$')\n",
        "\n",
        "    # plot likelihood\n",
        "    ax2 = plt.subplot(312)\n",
        "    plt.bar(np.arange(0,10), prediction.reshape(-1), color=green)\n",
        "    plt.title(r'Prediction After Action')\n",
        "    plt.ylim(0, 1)\n",
        "    plt.ylabel(r'$\\overline{bel(x_t})}$')\n",
        "\n",
        "    # plot posterior belief\n",
        "    ax3 = plt.subplot(313)\n",
        "    plt.bar(np.arange(0,10), posterior_belief.reshape(-1), color=VermillionRed)\n",
        "    plt.title(r'Posterior Belief After Measurement')\n",
        "    plt.ylim(0, 1)\n",
        "    plt.ylabel(r'$bel(x_t})$')\n",
        "\n",
        "    plt.show()"
      ]
    },
    {
      "cell_type": "code",
      "execution_count": 38,
      "metadata": {
        "colab": {
          "base_uri": "https://localhost:8080/",
          "height": 666
        },
        "id": "LhSSCdXKST4L",
        "outputId": "d5219c33-7641-4d79-f642-d8d217d99f0a"
      },
      "outputs": [
        {
          "output_type": "stream",
          "name": "stdout",
          "text": [
            "[0.19999999999999996, 0.6, 0.6, 0.19999999999999996, 0.6, 0.6, 0.19999999999999996, 0.6, 0.6, 0.6]\n",
            "belief state     probability\n",
            "     0              0.100\n",
            "\n",
            "     1              0.075\n",
            "\n",
            "     2              0.075\n",
            "\n",
            "     3              0.050\n",
            "\n",
            "     4              0.150\n",
            "\n",
            "     5              0.075\n",
            "\n",
            "     6              0.025\n",
            "\n",
            "     7              0.300\n",
            "\n",
            "     8              0.075\n",
            "\n",
            "     9              0.075\n",
            "\n"
          ]
        },
        {
          "output_type": "display_data",
          "data": {
            "image/png": "[encoded data removed]",
            "text/plain": [
              "<Figure size 432x288 with 1 Axes>"
            ]
          },
          "metadata": {
            "needs_background": "light"
          }
        }
      ],
      "source": [
        "import numpy as np\n",
        "import matplotlib.pyplot as plt\n",
        "\n",
        "# Bayes Filter Problem\n",
        "\"\"\"\n",
        "Follow steps of Bayes filter.  \n",
        "You can use the plot_fuction() above to help you check the belief in each step.\n",
        "Please print out the final answer.\n",
        "\"\"\"\n",
        "import copy\n",
        "\n",
        "def motion(belief, step) :\n",
        "    prediction = np.zeros(10)\n",
        "    for i in range(10):\n",
        "      new_pos = i - (step % 10)\n",
        "      if (new_pos) < 0:\n",
        "        new_pos += 10\n",
        "      prediction[i] = belief[new_pos]\n",
        "    return prediction\n",
        "\n",
        "def sensor(prediction, landmark):\n",
        "    observe = p_land if landmark else p_not_land\n",
        "    posterior = np.zeros(10)\n",
        "    sum = 0\n",
        "    for i in range(10):\n",
        "      posterior[i] = observe[i] * prediction[i]\n",
        "      sum += posterior[i]\n",
        "    posterior_normalized = np.array([p / sum for p in posterior])\n",
        "    return posterior_normalized\n",
        "    \n",
        "\n",
        "belief = 0.1 * np.ones(10)\n",
        "#############################################################################\n",
        "#                    TODO: Implement your code here                         #\n",
        "#############################################################################\n",
        "p_land = [0.8, 0.4, 0.4, 0.8, 0.4, 0.4, 0.8, 0.4, 0.4, 0.4]\n",
        "p_not_land = [1 - i for i in p_land]\n",
        "\n",
        "posterior = sensor(belief, True)\n",
        "prediction = motion(posterior, 3)\n",
        "posterior = sensor(prediction, True)\n",
        "prediction = motion(posterior, 4)\n",
        "posterior = sensor(prediction, False)\n",
        "belief = posterior\n",
        "\n",
        "\n",
        "#############################################################################\n",
        "#                            END OF YOUR CODE                               #\n",
        "#############################################################################\n",
        "plt.bar(np.arange(0,10), belief)\n",
        "\n",
        "print(\"belief state     probability\")\n",
        "for i in range(10):\n",
        "    print(\"%6d %18.3f\\n\" % (i, belief[i]))"
      ]
    },
    {
      "cell_type": "code",
      "source": [
        ""
      ],
      "metadata": {
        "id": "vYDtOiCKsGeS"
      },
      "execution_count": null,
      "outputs": []
    }
  ],
  "metadata": {
    "kernelspec": {
      "display_name": "Python 3",
      "language": "python",
      "name": "python3"
    },
    "language_info": {
      "codemirror_mode": {
        "name": "ipython",
        "version": 3
      },
      "file_extension": ".py",
      "mimetype": "text/x-python",
      "name": "python",
      "nbconvert_exporter": "python",
      "pygments_lexer": "ipython3",
      "version": "3.8.5"
    },
    "colab": {
      "name": "leekt_task2c_python.ipynb",
      "provenance": [],
      "collapsed_sections": []
    }
  },
  "nbformat": 4,
  "nbformat_minor": 0
}